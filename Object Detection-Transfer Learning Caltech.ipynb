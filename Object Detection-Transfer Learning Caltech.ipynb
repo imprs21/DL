{
 "cells": [
  {
   "cell_type": "code",
   "execution_count": 1,
   "id": "0236881e",
   "metadata": {},
   "outputs": [],
   "source": [
    "import tensorflow as tf\n",
    "from tensorflow import keras\n",
    "import numpy as np"
   ]
  },
  {
   "cell_type": "code",
   "execution_count": 2,
   "id": "77153603",
   "metadata": {},
   "outputs": [],
   "source": [
    "from tensorflow.keras.preprocessing.image import ImageDataGenerator\n"
   ]
  },
  {
   "cell_type": "markdown",
   "id": "1f677a54",
   "metadata": {},
   "source": [
    "# Pre processing img data\n"
   ]
  },
  {
   "cell_type": "code",
   "execution_count": 3,
   "id": "d934ac28",
   "metadata": {},
   "outputs": [
    {
     "name": "stdout",
     "output_type": "stream",
     "text": [
      "Found 9144 images belonging to 102 classes.\n"
     ]
    }
   ],
   "source": [
    "dataset_dir = \"caltech-101-img\" #Specifies the directory path where the dataset is located\n",
    "dataset_datagen = ImageDataGenerator(\n",
    "    rescale=1.0 / 255,\n",
    ")\n",
    "#normalises the image\n",
    "\n",
    "# # here batch_size is the number of images in each batch\n",
    "batch_size = 2000\n",
    "dataset_generator = dataset_datagen.flow_from_directory(\n",
    "    dataset_dir,\n",
    "    target_size=(64, 64), #resizes the image into 64 by 64 pixel\n",
    "    batch_size=batch_size, #Sets the batch size for training.\n",
    "    class_mode='categorical' # labels are one-hot encoded\n",
    ")"
   ]
  },
  {
   "cell_type": "markdown",
   "id": "2b3a8384",
   "metadata": {},
   "source": [
    "# Selecting first batch containing 2000 images as train and second batch containing 2000 images as test data# "
   ]
  },
  {
   "cell_type": "code",
   "execution_count": 4,
   "id": "1a528079",
   "metadata": {},
   "outputs": [
    {
     "name": "stdout",
     "output_type": "stream",
     "text": [
      "2000\n",
      "2000\n"
     ]
    }
   ],
   "source": [
    "x_train, y_train =  dataset_generator[0]\n",
    "x_test, y_test = dataset_generator[1]\n",
    "\n",
    "print(len(x_train))\n",
    "print(len(x_test))"
   ]
  },
  {
   "cell_type": "code",
   "execution_count": 5,
   "id": "fb2ba278",
   "metadata": {},
   "outputs": [],
   "source": [
    "from tensorflow.keras.models import Model\n",
    "from tensorflow.keras.layers import Dense, Flatten\n",
    "from tensorflow.keras.optimizers import Adam\n",
    "from tensorflow.keras.applications import VGG16"
   ]
  },
  {
   "cell_type": "markdown",
   "id": "fa6fb4d2",
   "metadata": {},
   "source": [
    "# a. Load in a pre-trained CNN model trained on a large dataset"
   ]
  },
  {
   "cell_type": "code",
   "execution_count": 6,
   "id": "271bb2c0",
   "metadata": {},
   "outputs": [],
   "source": [
    "weights_path = \"vgg16_weights_tf_dim_ordering_tf_kernels_notop.h5\"\n",
    "base_model = VGG16(weights=weights_path, include_top=False, input_shape=(64, 64, 3))"
   ]
  },
  {
   "cell_type": "markdown",
   "id": "2628e99f",
   "metadata": {},
   "source": [
    "# b. Freeze parameters (weights) in model’s lower convolutional layers"
   ]
  },
  {
   "cell_type": "code",
   "execution_count": 7,
   "id": "1d5a89cf",
   "metadata": {},
   "outputs": [],
   "source": [
    "for layer in base_model.layers:\n",
    "   layer.trainable = False"
   ]
  },
  {
   "cell_type": "markdown",
   "id": "56c752af",
   "metadata": {},
   "source": [
    "# c. Add custom classifier with several layers of trainable parameters to model"
   ]
  },
  {
   "cell_type": "code",
   "execution_count": 8,
   "id": "081111ee",
   "metadata": {},
   "outputs": [],
   "source": [
    "\n",
    "x = Flatten()(base_model.output)\n",
    "x = Dense(64, activation='relu')(x)\n",
    "predictions = Dense(102, activation='softmax')(x)\n",
    "\n",
    "# Create the model\n",
    "model = Model(inputs=base_model.input, outputs=predictions)\n",
    "# Compile the model\n",
    "model.compile(optimizer=\"adam\", loss='categorical_crossentropy', metrics=['accuracy'])"
   ]
  },
  {
   "cell_type": "markdown",
   "id": "f62860ca",
   "metadata": {},
   "source": [
    "# d. Train classifier layers on training data available for task\n",
    "\n"
   ]
  },
  {
   "cell_type": "code",
   "execution_count": 9,
   "id": "3d5878c6",
   "metadata": {},
   "outputs": [
    {
     "name": "stdout",
     "output_type": "stream",
     "text": [
      "Epoch 1/10\n",
      "32/32 [==============================] - 20s 605ms/step - loss: 3.8374 - accuracy: 0.2195 - val_loss: 3.3582 - val_accuracy: 0.2945\n",
      "Epoch 2/10\n",
      "32/32 [==============================] - 19s 588ms/step - loss: 2.9401 - accuracy: 0.3640 - val_loss: 2.9540 - val_accuracy: 0.3655\n",
      "Epoch 3/10\n",
      "32/32 [==============================] - 19s 594ms/step - loss: 2.4536 - accuracy: 0.4555 - val_loss: 2.6491 - val_accuracy: 0.4495\n",
      "Epoch 4/10\n",
      "32/32 [==============================] - 18s 581ms/step - loss: 2.0554 - accuracy: 0.5620 - val_loss: 2.4060 - val_accuracy: 0.4775\n",
      "Epoch 5/10\n",
      "32/32 [==============================] - 19s 598ms/step - loss: 1.7585 - accuracy: 0.6110 - val_loss: 2.2323 - val_accuracy: 0.4980\n",
      "Epoch 6/10\n",
      "32/32 [==============================] - 19s 591ms/step - loss: 1.5261 - accuracy: 0.6670 - val_loss: 2.1107 - val_accuracy: 0.5165\n",
      "Epoch 7/10\n",
      "32/32 [==============================] - 19s 597ms/step - loss: 1.3379 - accuracy: 0.7070 - val_loss: 2.0549 - val_accuracy: 0.5235\n",
      "Epoch 8/10\n",
      "32/32 [==============================] - 19s 598ms/step - loss: 1.1638 - accuracy: 0.7480 - val_loss: 1.9952 - val_accuracy: 0.5325\n",
      "Epoch 9/10\n",
      "32/32 [==============================] - 18s 586ms/step - loss: 1.0404 - accuracy: 0.7770 - val_loss: 1.9283 - val_accuracy: 0.5455\n",
      "Epoch 10/10\n",
      "32/32 [==============================] - 18s 572ms/step - loss: 0.9181 - accuracy: 0.8155 - val_loss: 1.8945 - val_accuracy: 0.5500\n"
     ]
    },
    {
     "data": {
      "text/plain": [
       "<keras.callbacks.History at 0x1df6d690430>"
      ]
     },
     "execution_count": 9,
     "metadata": {},
     "output_type": "execute_result"
    }
   ],
   "source": [
    "# Train the model\n",
    "model.fit(x_train, y_train, batch_size=64, epochs=10, validation_data=(x_test, y_test))"
   ]
  },
  {
   "cell_type": "markdown",
   "id": "cd65434a",
   "metadata": {},
   "source": [
    "# e. Fine-tune hyper parameters and unfreeze more layers as needed"
   ]
  },
  {
   "cell_type": "code",
   "execution_count": 11,
   "id": "12999588",
   "metadata": {},
   "outputs": [
    {
     "name": "stdout",
     "output_type": "stream",
     "text": [
      "Epoch 1/10\n",
      "32/32 [==============================] - 23s 691ms/step - loss: 3.1784 - accuracy: 0.3510 - val_loss: 2.4206 - val_accuracy: 0.4645\n",
      "Epoch 2/10\n",
      "32/32 [==============================] - 21s 676ms/step - loss: 1.7622 - accuracy: 0.5845 - val_loss: 1.9448 - val_accuracy: 0.5485\n",
      "Epoch 3/10\n",
      "32/32 [==============================] - 22s 691ms/step - loss: 1.1480 - accuracy: 0.6965 - val_loss: 1.8405 - val_accuracy: 0.5730\n",
      "Epoch 4/10\n",
      "32/32 [==============================] - 22s 711ms/step - loss: 0.7425 - accuracy: 0.8000 - val_loss: 1.6617 - val_accuracy: 0.6125\n",
      "Epoch 5/10\n",
      "32/32 [==============================] - 22s 703ms/step - loss: 0.4224 - accuracy: 0.8825 - val_loss: 1.7478 - val_accuracy: 0.6105\n",
      "Epoch 6/10\n",
      "32/32 [==============================] - 22s 712ms/step - loss: 0.2526 - accuracy: 0.9290 - val_loss: 1.7860 - val_accuracy: 0.6185\n",
      "Epoch 7/10\n",
      "32/32 [==============================] - 22s 701ms/step - loss: 0.1483 - accuracy: 0.9600 - val_loss: 1.7710 - val_accuracy: 0.6225\n",
      "Epoch 8/10\n",
      "32/32 [==============================] - 23s 719ms/step - loss: 0.1267 - accuracy: 0.9650 - val_loss: 1.9117 - val_accuracy: 0.6200\n",
      "Epoch 9/10\n",
      "32/32 [==============================] - 22s 696ms/step - loss: 0.0724 - accuracy: 0.9795 - val_loss: 1.8980 - val_accuracy: 0.6215\n",
      "Epoch 10/10\n",
      "32/32 [==============================] - 23s 737ms/step - loss: 0.0514 - accuracy: 0.9855 - val_loss: 1.9872 - val_accuracy: 0.6285\n"
     ]
    },
    {
     "data": {
      "text/plain": [
       "<keras.callbacks.History at 0x1df6744d670>"
      ]
     },
     "execution_count": 11,
     "metadata": {},
     "output_type": "execute_result"
    }
   ],
   "source": [
    "base_model = VGG16(weights=weights_path, include_top=False, input_shape=(64, 64, 3))\n",
    "# freeze all layers first\n",
    "for layer in base_model.layers:\n",
    "   layer.trainable = False\n",
    "# unfreeze last 4 layers of base model\n",
    "for layer in base_model.layers[len(base_model.layers) - 2:]:\n",
    "   layer.trainable = True\n",
    "# fine-tuning hyper parameters\n",
    "x = Flatten()(base_model.output)\n",
    "x = Dense(512, activation='relu')(x)\n",
    "x = tf.keras.layers.Dropout(0.3)(x)\n",
    "predictions = Dense(102, activation='softmax')(x)\n",
    "\n",
    "# Create the model\n",
    "model = Model(inputs=base_model.input, outputs=predictions)\n",
    "# Compile the model\n",
    "model.compile(optimizer=Adam(learning_rate=0.001), loss='categorical_crossentropy', metrics=['accuracy'])\n",
    "# training fine tuned model\n",
    "model.fit(x_train, y_train, batch_size=64, epochs=10, validation_data=(x_test, y_test))"
   ]
  },
  {
   "cell_type": "code",
   "execution_count": 12,
   "id": "a6feaed9",
   "metadata": {},
   "outputs": [
    {
     "name": "stdout",
     "output_type": "stream",
     "text": [
      "63/63 [==============================] - 11s 168ms/step\n"
     ]
    }
   ],
   "source": [
    "import matplotlib.pyplot as plt\n",
    "predicted_value = model.predict(x_test)"
   ]
  },
  {
   "cell_type": "code",
   "execution_count": 13,
   "id": "8d1828e3",
   "metadata": {},
   "outputs": [],
   "source": [
    "labels = list(dataset_generator.class_indices.keys())"
   ]
  },
  {
   "cell_type": "code",
   "execution_count": 17,
   "id": "8caa750b",
   "metadata": {},
   "outputs": [
    {
     "name": "stdout",
     "output_type": "stream",
     "text": [
      "Preditcted:  crab\n",
      "Actual:  crab\n"
     ]
    },
    {
     "data": {
      "image/png": "[encoded data removed]",
      "text/plain": [
       "<Figure size 432x288 with 1 Axes>"
      ]
     },
     "metadata": {
      "needs_background": "light"
     },
     "output_type": "display_data"
    }
   ],
   "source": [
    "n = 900\n",
    "plt.imshow(x_test[n])\n",
    "print(\"Preditcted: \",labels[np.argmax(predicted_value[n])])\n",
    "print(\"Actual: \", labels[np.argmax(y_test[n])])"
   ]
  },
  {
   "cell_type": "code",
   "execution_count": null,
   "id": "9a97fa54",
   "metadata": {},
   "outputs": [],
   "source": []
  }
 ],
 "metadata": {
  "kernelspec": {
   "display_name": "Python 3 (ipykernel)",
   "language": "python",
   "name": "python3"
  },
  "language_info": {
   "codemirror_mode": {
    "name": "ipython",
    "version": 3
   },
   "file_extension": ".py",
   "mimetype": "text/x-python",
   "name": "python",
   "nbconvert_exporter": "python",
   "pygments_lexer": "ipython3",
   "version": "3.9.7"
  }
 },
 "nbformat": 4,
 "nbformat_minor": 5
}
