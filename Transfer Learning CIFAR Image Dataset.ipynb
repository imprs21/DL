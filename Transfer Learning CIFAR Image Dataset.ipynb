{
 "cells": [
  {
   "cell_type": "code",
   "execution_count": 1,
   "id": "6c6e8efe",
   "metadata": {},
   "outputs": [],
   "source": [
    "import tensorflow as tf\n",
    "from tensorflow import keras\n",
    "from tensorflow.keras.applications import VGG16\n",
    "from tensorflow.keras.models import Model\n",
    "from tensorflow.keras.layers import Dense, Flatten\n",
    "from tensorflow.keras.optimizers import Adam\n",
    "from tensorflow.keras.preprocessing.image import ImageDataGenerator\n",
    "import numpy as np"
   ]
  },
  {
   "cell_type": "code",
   "execution_count": 2,
   "id": "ee5ea78c",
   "metadata": {},
   "outputs": [
    {
     "name": "stdout",
     "output_type": "stream",
     "text": [
      "Found 40079 images belonging to 10 classes.\n",
      "Found 9921 images belonging to 10 classes.\n"
     ]
    }
   ],
   "source": [
    "train_dir = \"cifar-10-img/train\"\n",
    "test_dir = \"cifar-10-img/test\"\n",
    "\n",
    "train_datagen = ImageDataGenerator(\n",
    "    rescale=1.0 / 255,\n",
    ")\n",
    "\n",
    "test_datagen = ImageDataGenerator(\n",
    "    rescale=1.0 / 255,\n",
    ")\n",
    "\n",
    "# here batch_size is the number of images in each batch\n",
    "train_batch_size = 5000\n",
    "train_generator = train_datagen.flow_from_directory(\n",
    "    train_dir,\n",
    "    target_size=(32, 32),\n",
    "    batch_size=train_batch_size,\n",
    "    class_mode='categorical'\n",
    ")\n",
    "test_batch_size = 1000\n",
    "test_generator = test_datagen.flow_from_directory(\n",
    "    test_dir,\n",
    "    target_size=(32, 32),\n",
    "    batch_size=test_batch_size,\n",
    "    class_mode='categorical'\n",
    ")"
   ]
  },
  {
   "cell_type": "code",
   "execution_count": 3,
   "id": "dc4f3a91",
   "metadata": {},
   "outputs": [
    {
     "name": "stdout",
     "output_type": "stream",
     "text": [
      "5000\n",
      "1000\n"
     ]
    }
   ],
   "source": [
    "x_train, y_train =  train_generator[0]\n",
    "x_test, y_test = test_generator[0]\n",
    "\n",
    "print(len(x_train))\n",
    "print(len(x_test))"
   ]
  },
  {
   "cell_type": "code",
   "execution_count": 5,
   "id": "859eac78",
   "metadata": {},
   "outputs": [],
   "source": [
    "# Load VGG16 without top layers\n",
    "weights_path = \"vgg16_weights_tf_dim_ordering_tf_kernels_notop.h5\"\n",
    "base_model = VGG16(weights=weights_path, include_top=False, input_shape=(32, 32, 3))"
   ]
  },
  {
   "cell_type": "code",
   "execution_count": 6,
   "id": "0127f3ee",
   "metadata": {},
   "outputs": [],
   "source": [
    "for layer in base_model.layers:\n",
    "   layer.trainable = False"
   ]
  },
  {
   "cell_type": "code",
   "execution_count": 7,
   "id": "eec0b260",
   "metadata": {},
   "outputs": [],
   "source": [
    "x = Flatten()(base_model.output)\n",
    "x = Dense(256, activation='relu')(x)\n",
    "x = tf.keras.layers.Dropout(0.3)(x)\n",
    "x = Dense(256, activation='relu')(x)\n",
    "x = tf.keras.layers.Dropout(0.3)(x)\n",
    "predictions = Dense(10, activation='softmax')(x)\n",
    "\n",
    "# Create the model\n",
    "model = Model(inputs=base_model.input, outputs=predictions)\n",
    "# Compile the model\n",
    "model.compile(optimizer=\"adam\", loss='categorical_crossentropy', metrics=['accuracy'])"
   ]
  },
  {
   "cell_type": "code",
   "execution_count": 9,
   "id": "9eaea758",
   "metadata": {},
   "outputs": [
    {
     "name": "stdout",
     "output_type": "stream",
     "text": [
      "Epoch 1/10\n",
      "79/79 [==============================] - 16s 198ms/step - loss: 1.0271 - accuracy: 0.6350 - val_loss: 1.3418 - val_accuracy: 0.5370\n",
      "Epoch 2/10\n",
      "79/79 [==============================] - 16s 208ms/step - loss: 1.0059 - accuracy: 0.6450 - val_loss: 1.3237 - val_accuracy: 0.5330\n",
      "Epoch 3/10\n",
      "79/79 [==============================] - 17s 213ms/step - loss: 0.9579 - accuracy: 0.6594 - val_loss: 1.3415 - val_accuracy: 0.5480\n",
      "Epoch 4/10\n",
      "79/79 [==============================] - 16s 204ms/step - loss: 0.9178 - accuracy: 0.6772 - val_loss: 1.3606 - val_accuracy: 0.5290\n",
      "Epoch 5/10\n",
      "79/79 [==============================] - 15s 194ms/step - loss: 0.8664 - accuracy: 0.6902 - val_loss: 1.3452 - val_accuracy: 0.5350\n",
      "Epoch 6/10\n",
      "79/79 [==============================] - 14s 178ms/step - loss: 0.8347 - accuracy: 0.7048 - val_loss: 1.3698 - val_accuracy: 0.5510\n",
      "Epoch 7/10\n",
      "79/79 [==============================] - 15s 192ms/step - loss: 0.8203 - accuracy: 0.7056 - val_loss: 1.3943 - val_accuracy: 0.5260\n",
      "Epoch 8/10\n",
      "79/79 [==============================] - 15s 190ms/step - loss: 0.7740 - accuracy: 0.7300 - val_loss: 1.4308 - val_accuracy: 0.5300\n",
      "Epoch 9/10\n",
      "79/79 [==============================] - 15s 191ms/step - loss: 0.7348 - accuracy: 0.7372 - val_loss: 1.4189 - val_accuracy: 0.5460\n",
      "Epoch 10/10\n",
      "79/79 [==============================] - 15s 192ms/step - loss: 0.7192 - accuracy: 0.7450 - val_loss: 1.4151 - val_accuracy: 0.5390\n"
     ]
    },
    {
     "data": {
      "text/plain": [
       "<keras.callbacks.History at 0x22e39e0d6a0>"
      ]
     },
     "execution_count": 9,
     "metadata": {},
     "output_type": "execute_result"
    }
   ],
   "source": [
    "# Train the model\n",
    "model.fit(x_train, y_train, batch_size=64, epochs=10, validation_data=(x_test, y_test))"
   ]
  },
  {
   "cell_type": "code",
   "execution_count": 11,
   "id": "b65671b3",
   "metadata": {},
   "outputs": [
    {
     "name": "stdout",
     "output_type": "stream",
     "text": [
      "Epoch 1/10\n",
      "79/79 [==============================] - 68s 817ms/step - loss: 2.0621 - accuracy: 0.1910 - val_loss: 1.7896 - val_accuracy: 0.2610\n",
      "Epoch 2/10\n",
      "79/79 [==============================] - 63s 802ms/step - loss: 1.4804 - accuracy: 0.4520 - val_loss: 1.4017 - val_accuracy: 0.4980\n",
      "Epoch 3/10\n",
      "79/79 [==============================] - 66s 832ms/step - loss: 1.1334 - accuracy: 0.6036 - val_loss: 1.1640 - val_accuracy: 0.6150\n",
      "Epoch 4/10\n",
      "79/79 [==============================] - 64s 814ms/step - loss: 0.9655 - accuracy: 0.6714 - val_loss: 1.1292 - val_accuracy: 0.6220\n",
      "Epoch 5/10\n",
      "79/79 [==============================] - 66s 839ms/step - loss: 0.8013 - accuracy: 0.7252 - val_loss: 1.1579 - val_accuracy: 0.6050\n",
      "Epoch 6/10\n",
      "79/79 [==============================] - 65s 828ms/step - loss: 0.6832 - accuracy: 0.7682 - val_loss: 1.2017 - val_accuracy: 0.6360\n",
      "Epoch 7/10\n",
      "79/79 [==============================] - 68s 861ms/step - loss: 0.5871 - accuracy: 0.7968 - val_loss: 1.3173 - val_accuracy: 0.5970\n",
      "Epoch 8/10\n",
      "79/79 [==============================] - 65s 819ms/step - loss: 0.5140 - accuracy: 0.8242 - val_loss: 1.5097 - val_accuracy: 0.6230\n",
      "Epoch 9/10\n",
      "79/79 [==============================] - 65s 820ms/step - loss: 0.4163 - accuracy: 0.8600 - val_loss: 1.4122 - val_accuracy: 0.6340\n",
      "Epoch 10/10\n",
      "79/79 [==============================] - 63s 796ms/step - loss: 0.3610 - accuracy: 0.8844 - val_loss: 1.4846 - val_accuracy: 0.6270\n"
     ]
    },
    {
     "data": {
      "text/plain": [
       "<keras.callbacks.History at 0x22e39e9b370>"
      ]
     },
     "execution_count": 11,
     "metadata": {},
     "output_type": "execute_result"
    }
   ],
   "source": [
    "base_model = VGG16(weights=weights_path, include_top=False, input_shape=(32, 32, 3))\n",
    "# freeze all layers first\n",
    "for layer in base_model.layers:\n",
    "   layer.trainable = False\n",
    "# unfreeze last 4 layers of base model\n",
    "for layer in base_model.layers[len(base_model.layers) - 4:]:\n",
    "   layer.trainable = True\n",
    "# fine-tuning hyper parameters\n",
    "x = Flatten()(base_model.output)\n",
    "x = Dense(256, activation='relu')(x)\n",
    "x = tf.keras.layers.Dropout(0.3)(x)\n",
    "x = Dense(512, activation='relu')(x)\n",
    "x = tf.keras.layers.Dropout(0.3)(x)\n",
    "predictions = Dense(10, activation='softmax')(x)\n",
    "\n",
    "# Create the model\n",
    "model = Model(inputs=base_model.input, outputs=predictions)\n",
    "# Compile the model\n",
    "model.compile(optimizer=Adam(learning_rate=0.001), loss='categorical_crossentropy', metrics=['accuracy'])\n",
    "# training fine tuned model\n",
    "model.fit(x_train, y_train, batch_size=64, epochs=10, validation_data=(x_test, y_test))"
   ]
  },
  {
   "cell_type": "code",
   "execution_count": 12,
   "id": "7e78258c",
   "metadata": {},
   "outputs": [
    {
     "name": "stdout",
     "output_type": "stream",
     "text": [
      "32/32 [==============================] - 4s 108ms/step\n"
     ]
    }
   ],
   "source": [
    "import matplotlib.pyplot as plt\n",
    "predicted_value = model.predict(x_test)"
   ]
  },
  {
   "cell_type": "code",
   "execution_count": 13,
   "id": "2a156ed5",
   "metadata": {},
   "outputs": [],
   "source": [
    "labels = list(test_generator.class_indices.keys())"
   ]
  },
  {
   "cell_type": "code",
   "execution_count": 14,
   "id": "3f61ca8f",
   "metadata": {},
   "outputs": [
    {
     "name": "stdout",
     "output_type": "stream",
     "text": [
      "Preditcted:  cat\n",
      "Actual:  cat\n"
     ]
    },
    {
     "data": {
      "image/png": "[encoded data removed]",
      "text/plain": [
       "<Figure size 432x288 with 1 Axes>"
      ]
     },
     "metadata": {
      "needs_background": "light"
     },
     "output_type": "display_data"
    }
   ],
   "source": [
    "n = 890\n",
    "plt.imshow(x_test[n])\n",
    "print(\"Preditcted: \",labels[np.argmax(predicted_value[n])])\n",
    "print(\"Actual: \", labels[np.argmax(y_test[n])])"
   ]
  },
  {
   "cell_type": "code",
   "execution_count": null,
   "id": "1a183a4a",
   "metadata": {},
   "outputs": [],
   "source": []
  }
 ],
 "metadata": {
  "kernelspec": {
   "display_name": "Python 3 (ipykernel)",
   "language": "python",
   "name": "python3"
  },
  "language_info": {
   "codemirror_mode": {
    "name": "ipython",
    "version": 3
   },
   "file_extension": ".py",
   "mimetype": "text/x-python",
   "name": "python",
   "nbconvert_exporter": "python",
   "pygments_lexer": "ipython3",
   "version": "3.9.7"
  }
 },
 "nbformat": 4,
 "nbformat_minor": 5
}
